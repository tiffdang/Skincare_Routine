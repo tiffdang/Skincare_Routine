{
  "cells": [
    {
      "cell_type": "markdown",
      "id": "39f845d0",
      "metadata": {
        "id": "39f845d0"
      },
      "source": [
        "# Skincare Dossier Generator  \n",
        "*Creates Word (.docx) and PDF versions of a peer‑reviewed skincare routine dossier*  \n",
        "Generated on 2025-07-07 05:16 UTC"
      ]
    },
    {
      "cell_type": "code",
      "execution_count": 2,
      "id": "70104b33",
      "metadata": {
        "id": "70104b33",
        "outputId": "e96de7e3-43eb-41d0-ab0b-d15f069d08d9",
        "colab": {
          "base_uri": "https://localhost:8080/"
        }
      },
      "outputs": [
        {
          "output_type": "stream",
          "name": "stdout",
          "text": [
            "\u001b[2K   \u001b[90m━━━━━━━━━━━━━━━━━━━━━━━━━━━━━━━━━━━━━━━━\u001b[0m \u001b[32m253.0/253.0 kB\u001b[0m \u001b[31m4.3 MB/s\u001b[0m eta \u001b[36m0:00:00\u001b[0m\n",
            "\u001b[2K   \u001b[90m━━━━━━━━━━━━━━━━━━━━━━━━━━━━━━━━━━━━━━━━\u001b[0m \u001b[32m2.0/2.0 MB\u001b[0m \u001b[31m35.5 MB/s\u001b[0m eta \u001b[36m0:00:00\u001b[0m\n",
            "\u001b[2K   \u001b[90m━━━━━━━━━━━━━━━━━━━━━━━━━━━━━━━━━━━━━━━━\u001b[0m \u001b[32m172.3/172.3 kB\u001b[0m \u001b[31m9.7 MB/s\u001b[0m eta \u001b[36m0:00:00\u001b[0m\n",
            "\u001b[?25h"
          ]
        }
      ],
      "source": [
        "# ↳ Install one‑time dependencies (runtime resets will need re‑install)\n",
        "!pip install python-docx reportlab pandas xlsxwriter --quiet"
      ]
    },
    {
      "cell_type": "code",
      "execution_count": 3,
      "id": "62adb334",
      "metadata": {
        "id": "62adb334",
        "outputId": "d73bb92e-232b-4ae9-949b-c381e31bea4d",
        "colab": {
          "base_uri": "https://localhost:8080/"
        }
      },
      "outputs": [
        {
          "output_type": "stream",
          "name": "stdout",
          "text": [
            "Outputs will be saved to: /content\n"
          ]
        }
      ],
      "source": [
        "# OPTIONAL: Save outputs directly to your Google Drive\n",
        "SAVE_TO_DRIVE = False  # change to True if you want to mount Drive\n",
        "if SAVE_TO_DRIVE:\n",
        "    from google.colab import drive\n",
        "    drive.mount('/content/drive')\n",
        "    OUTDIR = '/content/drive/MyDrive/skincare_dossier'\n",
        "else:\n",
        "    OUTDIR = '/content'\n",
        "print('Outputs will be saved to:', OUTDIR)"
      ]
    },
    {
      "cell_type": "code",
      "execution_count": 4,
      "id": "7c6a768c",
      "metadata": {
        "id": "7c6a768c"
      },
      "outputs": [],
      "source": [
        "# ---- DATA BLOCK: tweak concentrations, papers, or schedule here ----\n",
        "import pandas as pd\n",
        "\n",
        "summary_bullets = [\n",
        "    'Primary goals: photo‑protection, pigment control, barrier support, long‑term collagen remodeling.',\n",
        "    'Actives selected at clinically validated concentrations (see tables).',\n",
        "    'Layering and frequency optimized to minimize irritation while preserving synergy; broad‑spectrum sunscreen locks in gains.'\n",
        "]\n",
        "\n",
        "usage_rows = [\n",
        "    ['15 % Vitamin C + 0.5 % Ferulic + 1 % E', 'AM (post‑cleanse)', 'Daily', 'Remain daily; dilute first week if tingling', 'Apply before moisturizer/SPF; compatible with niacinamide & azelaic'],\n",
        "    ['5 % Niacinamide', 'AM and/or PM', 'Daily, up to 2×', 'Stay 1‑2× daily', 'Buffers irritation from acids and retinoids'],\n",
        "    ['10 % Azelaic Acid', 'PM preferred', '3× week start', 'Advance to nightly as tolerated', 'Use on “buffer” nights away from retinol'],\n",
        "    ['≈ 7 % Glycolic Acid', 'PM only', '2–3× week non‑consecutive', 'Cap at 3× week', 'Do not use same night as retinol'],\n",
        "    ['Retinol 0.1 % → 0.3 %', 'PM only', 'Start 0.1 % 1× week', 'Step to 0.3 % and 3× week over 8 wk', 'Skip glycolic on retinol nights; sandwich with moisturizer'],\n",
        "    ['Broad‑spectrum SPF 30 + (PA+++)', 'AM final step; re‑apply', 'Daily', 'Reapply every 2 h outdoors', 'Apply after moisturizer; essential for pigment control & anti‑ageing']\n",
        "]\n",
        "usage_cols = ['Ingredient', 'Best Time', 'Start Frequency', 'How to Advance', 'Layering Notes']\n",
        "\n",
        "grid_rows = [\n",
        "    ['Mon', 'Cleanse → Vit C → Niac → SPF', 'Cleanse → Azelaic → Niac'],\n",
        "    ['Tue', 'Cleanse → Vit C → Niac → SPF', 'Cleanse → Glycolic → Moisturizer'],\n",
        "    ['Wed', 'Cleanse → Vit C → Niac → SPF', 'Cleanse → Retinol → Moisturizer'],\n",
        "    ['Thu', 'Same as Mon', 'Cleanse → Azelaic → Niac'],\n",
        "    ['Fri', 'Same as Mon', 'Cleanse → Glycolic → Moisturizer'],\n",
        "    ['Sat', 'Same as Mon', 'Cleanse → Retinol → Moisturizer'],\n",
        "    ['Sun', 'Same as Mon', 'Cleanse → Niac‑rich moisturizer (barrier night)']\n",
        "]\n",
        "grid_cols = ['Day', 'AM Routine', 'PM Routine']\n",
        "\n",
        "# Evidence rows per ingredient (truncated for brevity – extend as desired)\n",
        "niacinamide_rows = [\n",
        "    ['Shahmoradi 2013', 'J Res Med Sci', '5 %', 'Double‑blind RCT, 60 acne; 8 wk', 'Efficacy', 'Lesion count ↓; no AEs', 'PMID 23914212'],\n",
        "    # ... add more rows as needed\n",
        "]\n",
        "\n",
        "# similarly define vitc_rows, aza_rows, gly_rows, retinol_rows, sunscreen_rows\n",
        "vitc_rows, aza_rows, gly_rows, retinol_rows, sunscreen_rows = [], [], [], [], []  # placeholder\n",
        "\n",
        "evidence_dict = {\n",
        "    'Niacinamide 5%': niacinamide_rows,\n",
        "    # add other ingredients when rows filled\n",
        "}\n"
      ]
    },
    {
      "cell_type": "code",
      "execution_count": 5,
      "id": "d980396a",
      "metadata": {
        "id": "d980396a",
        "outputId": "62867895-820d-4394-d303-b7ccf3dd514e",
        "colab": {
          "base_uri": "https://localhost:8080/"
        }
      },
      "outputs": [
        {
          "output_type": "stream",
          "name": "stdout",
          "text": [
            "Files saved to /content/skincare_dossier.docx and /content/skincare_dossier.pdf\n"
          ]
        }
      ],
      "source": [
        "from docx import Document\n",
        "from docx.enum.text import WD_PARAGRAPH_ALIGNMENT\n",
        "from reportlab.lib.pagesizes import letter\n",
        "from reportlab.platypus import SimpleDocTemplate, Paragraph, Table, TableStyle, Spacer, PageBreak\n",
        "from reportlab.lib.styles import getSampleStyleSheet\n",
        "from reportlab.lib import colors\n",
        "import os, datetime\n",
        "\n",
        "# --- Helper functions to build Word & PDF ---\n",
        "def build_word(docx_path):\n",
        "    doc = Document()\n",
        "    doc.add_heading('Evidence‑Based Skincare Routine', level=1).alignment = WD_PARAGRAPH_ALIGNMENT.CENTER\n",
        "    doc.add_paragraph('Generated on ' + datetime.datetime.now().strftime('%Y-%m-%d'))\n",
        "    # Exec summary\n",
        "    doc.add_heading('Executive Summary', level=2)\n",
        "    for b in summary_bullets:\n",
        "        doc.add_paragraph(b, style='List Bullet')\n",
        "    # Usage map\n",
        "    doc.add_heading('Usage Map – How & When to Apply', level=2)\n",
        "    table = doc.add_table(rows=1, cols=len(usage_cols))\n",
        "    for i, col in enumerate(usage_cols):\n",
        "        table.rows[0].cells[i].text = col\n",
        "    for row in usage_rows:\n",
        "        cells = table.add_row().cells\n",
        "        for i, val in enumerate(row):\n",
        "            cells[i].text = val\n",
        "    doc.add_page_break()\n",
        "    # ingredient sheets\n",
        "    for ing, rows in evidence_dict.items():\n",
        "        doc.add_heading(ing, level=2)\n",
        "        t = doc.add_table(rows=1, cols=7)\n",
        "        hdr = ['Study / Year','Journal','Dose','Design & N','Focus','Key Findings','Ref']\n",
        "        for i, h in enumerate(hdr):\n",
        "            t.rows[0].cells[i].text = h\n",
        "        for r in rows:\n",
        "            cells = t.add_row().cells\n",
        "            for i, val in enumerate(r):\n",
        "                cells[i].text = str(val)\n",
        "        doc.add_page_break()\n",
        "    doc.save(docx_path)\n",
        "\n",
        "def build_pdf(pdf_path):\n",
        "    styles = getSampleStyleSheet()\n",
        "    elems = [Paragraph('Evidence‑Based Skincare Routine', styles['Title'])]\n",
        "    elems.append(Paragraph('Generated on ' + datetime.datetime.now().strftime('%Y-%m-%d'), styles['Normal']))\n",
        "    elems.append(Spacer(1,12))\n",
        "    # Exec summary\n",
        "    elems.append(Paragraph('Executive Summary', styles['Heading2']))\n",
        "    for b in summary_bullets:\n",
        "        elems.append(Paragraph('• '+b, styles['Normal']))\n",
        "    elems.append(PageBreak())\n",
        "    # Build PDF\n",
        "    pdf = SimpleDocTemplate(pdf_path, pagesize=letter)\n",
        "    pdf.build(elems)\n",
        "\n",
        "# --- Output paths ---\n",
        "os.makedirs(OUTDIR, exist_ok=True)\n",
        "DOCX_PATH = os.path.join(OUTDIR, 'skincare_dossier.docx')\n",
        "PDF_PATH  = os.path.join(OUTDIR, 'skincare_dossier.pdf')\n",
        "\n",
        "build_word(DOCX_PATH)\n",
        "build_pdf(PDF_PATH)\n",
        "print('Files saved to', DOCX_PATH, 'and', PDF_PATH)"
      ]
    }
  ],
  "metadata": {
    "colab": {
      "provenance": []
    },
    "language_info": {
      "name": "python"
    },
    "kernelspec": {
      "name": "python3",
      "display_name": "Python 3"
    }
  },
  "nbformat": 4,
  "nbformat_minor": 5
}